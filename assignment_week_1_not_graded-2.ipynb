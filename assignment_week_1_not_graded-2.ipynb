{
 "cells": [
  {
   "cell_type": "markdown",
   "id": 173,
   "metadata": {},
   "source": [
    "# Assignment Week 1 (not graded)"
   ]
  },
  {
   "cell_type": "markdown",
   "id": "35e795fa",
   "metadata": {},
   "source": [
    "## Prelude"
   ]
  },
  {
   "cell_type": "markdown",
   "id": "c1d945fe",
   "metadata": {},
   "source": [
    "In this exercise, you will do some basic operations using Python. This assignment is not graded."
   ]
  },
  {
   "cell_type": "markdown",
   "id": "7be7a491",
   "metadata": {},
   "source": [
    "## Exercise 1\n\nConsider a rectangle with the small side of length 5 and the long side of length 8."
   ]
  },
  {
   "cell_type": "markdown",
   "id": "044d22a4",
   "metadata": {},
   "source": [
    "**1.1** Defining variables\n",
    "\n",
    "Define variables `long_side` and `short_side` to represent the dimensions of the two sides.\n",
    "\n",
    "\n",
    ""
   ]
  },
  {
   "cell_type": "code",
   "id": "044d22a4-response",
   "metadata": {
    "ExecuteTime": {
     "end_time": "2025-10-14T13:49:31.875482Z",
     "start_time": "2025-10-14T13:49:31.871874Z"
    }
   },
   "source": [
    "long_side = 8 #Define long_side and short_side\n",
    "short_side = 5"
   ],
   "outputs": [],
   "execution_count": 1
  },
  {
   "cell_type": "markdown",
   "id": "d447b81b",
   "metadata": {},
   "source": [
    "**1.2** Display the value of the long side.\n",
    "\n",
    "\n",
    ""
   ]
  },
  {
   "cell_type": "code",
   "id": "d447b81b-response",
   "metadata": {
    "ExecuteTime": {
     "end_time": "2025-10-14T13:49:31.883606Z",
     "start_time": "2025-10-14T13:49:31.881909Z"
    }
   },
   "source": [
    "print(long_side) #print long_side"
   ],
   "outputs": [
    {
     "name": "stdout",
     "output_type": "stream",
     "text": [
      "8\n"
     ]
    }
   ],
   "execution_count": 2
  },
  {
   "cell_type": "markdown",
   "id": "47ee9876",
   "metadata": {},
   "source": [
    "**1.3** Which type does the variables `long_side` have?\n",
    "\n",
    "\n",
    ""
   ]
  },
  {
   "cell_type": "code",
   "id": "47ee9876-response",
   "metadata": {
    "ExecuteTime": {
     "end_time": "2025-10-14T13:49:31.894907Z",
     "start_time": "2025-10-14T13:49:31.892934Z"
    }
   },
   "source": [
    "print(f\"long_side is of the type: {type(long_side).__name__}\") #Print Information, then get the type of long_side and print the types name"
   ],
   "outputs": [
    {
     "name": "stdout",
     "output_type": "stream",
     "text": [
      "long_side is of the type: int\n"
     ]
    }
   ],
   "execution_count": 3
  },
  {
   "cell_type": "markdown",
   "id": "dca6c4fb",
   "metadata": {},
   "source": [
    "You realise that your measurement was not precise — something we will later get to know\n",
    "as measurement error. A more precise measurement reveals that the length of the long\n",
    "side is 8.3."
   ]
  },
  {
   "cell_type": "markdown",
   "id": "aef31140",
   "metadata": {},
   "source": [
    "**1.4** Overwriting variables\n",
    "\n",
    "Overwrite the variable `long_side` defined above with 8.3. Which type does it have now? \n",
    "\n",
    "\n",
    ""
   ]
  },
  {
   "cell_type": "code",
   "id": "aef31140-response",
   "metadata": {
    "ExecuteTime": {
     "end_time": "2025-10-14T13:49:31.904725Z",
     "start_time": "2025-10-14T13:49:31.902786Z"
    }
   },
   "source": [
    "long_side = 8.3 #Overwrite long_side with precise value\n",
    "print(f\"long_side is now of the type: {type(long_side).__name__}\") #Print Information, then get the type of long_side and print the types name"
   ],
   "outputs": [
    {
     "name": "stdout",
     "output_type": "stream",
     "text": [
      "long_side is now of the type: float\n"
     ]
    }
   ],
   "execution_count": 4
  },
  {
   "cell_type": "markdown",
   "id": "c6fc37dd",
   "metadata": {},
   "source": [
    "**1.5** Operations with variables\n",
    "\n",
    "Define the variable `perimeter_rectangle` containing the perimeter of the rectangle. Use operations on `long_side` and `short_side` when assigning `perimeter_rectangle`. Display its contents.\n",
    "\n",
    "\n",
    ""
   ]
  },
  {
   "cell_type": "code",
   "id": "c6fc37dd-response",
   "metadata": {
    "ExecuteTime": {
     "end_time": "2025-10-14T13:49:31.911777Z",
     "start_time": "2025-10-14T13:49:31.910116Z"
    }
   },
   "source": [
    "perimeter_rectangle = 2*(long_side + short_side) # U = 2(a+b)\n",
    "print(perimeter_rectangle)"
   ],
   "outputs": [
    {
     "name": "stdout",
     "output_type": "stream",
     "text": [
      "26.6\n"
     ]
    }
   ],
   "execution_count": 5
  },
  {
   "cell_type": "markdown",
   "id": "5b1e3f05",
   "metadata": {},
   "source": [
    "**1.6** More operations\n",
    "\n",
    "Define the variable `area_rectangle` containing the area of the rectangle. Use operations on `long_side` and `short_side` when assigning to `area_rectangle`. Display its contents.\n",
    "\n",
    "\n",
    ""
   ]
  },
  {
   "cell_type": "code",
   "id": "5b1e3f05-response",
   "metadata": {
    "ExecuteTime": {
     "end_time": "2025-10-14T13:49:31.919477Z",
     "start_time": "2025-10-14T13:49:31.917717Z"
    }
   },
   "source": [
    "area_rectangle = long_side * short_side # A = a*b\n",
    "print(area_rectangle)"
   ],
   "outputs": [
    {
     "name": "stdout",
     "output_type": "stream",
     "text": [
      "41.5\n"
     ]
    }
   ],
   "execution_count": 6
  },
  {
   "cell_type": "markdown",
   "id": "29307316",
   "metadata": {},
   "source": [
    "**1.7** Which types does `perimeter_rectangle` and `area_rectangle` have?\n",
    "\n",
    "\n",
    ""
   ]
  },
  {
   "cell_type": "code",
   "id": "29307316-response",
   "metadata": {
    "ExecuteTime": {
     "end_time": "2025-10-14T13:49:31.927352Z",
     "start_time": "2025-10-14T13:49:31.925655Z"
    }
   },
   "source": [
    "print(f\"perimeter_rectangle is of the type: {type(perimeter_rectangle).__name__} \\narea_rectangle is of the type: {type(area_rectangle).__name__}\") #Print Information, then get the type of long_side and print the types name"
   ],
   "outputs": [
    {
     "name": "stdout",
     "output_type": "stream",
     "text": [
      "perimeter_rectangle is of the type: float \n",
      "area_rectangle is of the type: float\n"
     ]
    }
   ],
   "execution_count": 7
  },
  {
   "cell_type": "markdown",
   "id": "a1aff518",
   "metadata": {},
   "source": [
    "## Exercise 2"
   ]
  },
  {
   "cell_type": "markdown",
   "id": "73ad9c03",
   "metadata": {},
   "source": [
    "**2.1** Variable creation\n",
    "\n",
    "Consider a square with side length 7. Assign this value to a variable `square_side`.\n",
    "\n",
    "\n",
    ""
   ]
  },
  {
   "cell_type": "code",
   "id": "73ad9c03-response",
   "metadata": {
    "ExecuteTime": {
     "end_time": "2025-10-14T13:49:31.943658Z",
     "start_time": "2025-10-14T13:49:31.942171Z"
    }
   },
   "source": [
    "square_side = 7"
   ],
   "outputs": [],
   "execution_count": 8
  },
  {
   "cell_type": "markdown",
   "id": "716d0c64",
   "metadata": {},
   "source": [
    "**2.2** Perimater calculations\n",
    "\n",
    "Calculate `perimeter_square` with obvious contents. In doing so, use the variable `square_side`, but only once. Display its contents.\n",
    "\n",
    "\n",
    ""
   ]
  },
  {
   "cell_type": "code",
   "id": "716d0c64-response",
   "metadata": {
    "ExecuteTime": {
     "end_time": "2025-10-14T13:49:31.955251Z",
     "start_time": "2025-10-14T13:49:31.953709Z"
    }
   },
   "source": [
    "perimeter_square = 4*square_side # U = 4*a\n",
    "print(perimeter_square)"
   ],
   "outputs": [
    {
     "name": "stdout",
     "output_type": "stream",
     "text": [
      "28\n"
     ]
    }
   ],
   "execution_count": 9
  },
  {
   "cell_type": "markdown",
   "id": "469bb0bd",
   "metadata": {},
   "source": [
    "**2.3** Area calculations\n",
    "\n",
    "Calculate `area_square` with obvious contents. In doing so, use the variable `square_side`, but only once.\n",
    "\n",
    "\n",
    ""
   ]
  },
  {
   "cell_type": "code",
   "id": "469bb0bd-response",
   "metadata": {
    "ExecuteTime": {
     "end_time": "2025-10-14T13:49:31.965450Z",
     "start_time": "2025-10-14T13:49:31.963970Z"
    }
   },
   "source": [
    "area_square = square_side**2 # A = a^2"
   ],
   "outputs": [],
   "execution_count": 10
  },
  {
   "cell_type": "markdown",
   "id": "46858a0b",
   "metadata": {},
   "source": [
    "**2.4** Which types does `perimeter_square` and `area_square` have?\n",
    "\n",
    "\n",
    ""
   ]
  },
  {
   "cell_type": "code",
   "id": "46858a0b-response",
   "metadata": {
    "ExecuteTime": {
     "end_time": "2025-10-14T13:49:31.973593Z",
     "start_time": "2025-10-14T13:49:31.971976Z"
    }
   },
   "source": [
    "print(f\"perimeter_square is of the type: {type(perimeter_square).__name__} \\narea_squarw is of the type: {type(area_square).__name__}\") #Print Information, then get the type of long_side and print the types name"
   ],
   "outputs": [
    {
     "name": "stdout",
     "output_type": "stream",
     "text": [
      "perimeter_square is of the type: int \n",
      "area_squarw is of the type: int\n"
     ]
    }
   ],
   "execution_count": 11
  },
  {
   "cell_type": "markdown",
   "id": "9ce6ebcc",
   "metadata": {},
   "source": [
    "## Exercise 3"
   ]
  },
  {
   "cell_type": "markdown",
   "id": "86e69321",
   "metadata": {},
   "source": [
    "Use the logical operators '>', '<', '==' to answer the following questions:"
   ]
  },
  {
   "cell_type": "markdown",
   "id": "0f9082e0",
   "metadata": {},
   "source": [
    "**3.1** Is the long side of the rectangle smaller than the side of the square?\n",
    "\n",
    "\n",
    ""
   ]
  },
  {
   "cell_type": "code",
   "id": "0f9082e0-response",
   "metadata": {
    "ExecuteTime": {
     "end_time": "2025-10-14T13:49:31.982843Z",
     "start_time": "2025-10-14T13:49:31.981239Z"
    }
   },
   "source": [
    "print(long_side < square_side)"
   ],
   "outputs": [
    {
     "name": "stdout",
     "output_type": "stream",
     "text": [
      "False\n"
     ]
    }
   ],
   "execution_count": 12
  },
  {
   "cell_type": "markdown",
   "id": "93633aff",
   "metadata": {},
   "source": [
    "**3.2** Perimeter logic\n",
    "\n",
    "Is the perimeter of the rectange larger or equal than the perimeter of the square?\n",
    "\n",
    "\n",
    ""
   ]
  },
  {
   "cell_type": "code",
   "id": "93633aff-response",
   "metadata": {
    "ExecuteTime": {
     "end_time": "2025-10-14T13:49:31.993138Z",
     "start_time": "2025-10-14T13:49:31.991370Z"
    }
   },
   "source": [
    "print(perimeter_rectangle >= perimeter_square)"
   ],
   "outputs": [
    {
     "name": "stdout",
     "output_type": "stream",
     "text": [
      "False\n"
     ]
    }
   ],
   "execution_count": 13
  },
  {
   "cell_type": "markdown",
   "id": "d7deb991",
   "metadata": {},
   "source": [
    "**3.3** Is the area of the rectangle equal to the area of the square?\n",
    "\n",
    "\n",
    ""
   ]
  },
  {
   "cell_type": "code",
   "id": "d7deb991-response",
   "metadata": {
    "ExecuteTime": {
     "end_time": "2025-10-14T13:49:32.001849Z",
     "start_time": "2025-10-14T13:49:32.000235Z"
    }
   },
   "source": [
    "print(area_rectangle == area_square)"
   ],
   "outputs": [
    {
     "name": "stdout",
     "output_type": "stream",
     "text": [
      "False\n"
     ]
    }
   ],
   "execution_count": 14
  },
  {
   "cell_type": "markdown",
   "id": "2652d1f6",
   "metadata": {},
   "source": [
    "**3.4** Definition of Boolean variables\n",
    "\n",
    "Define a Boolean variable named `short_smaller_than_square`, which is true if the short side of the rectangle shorter than the side of the square and false otherwise\n",
    "\n",
    "\n",
    ""
   ]
  },
  {
   "cell_type": "code",
   "id": "2652d1f6-response",
   "metadata": {
    "ExecuteTime": {
     "end_time": "2025-10-14T13:49:32.010343Z",
     "start_time": "2025-10-14T13:49:32.008935Z"
    }
   },
   "source": [
    "short_smaller_than_square = short_side < square_side"
   ],
   "outputs": [],
   "execution_count": 15
  },
  {
   "cell_type": "markdown",
   "id": "e5961b9e",
   "metadata": {},
   "source": [
    "**3.5** Defining more Boolean variables\n",
    "\n",
    "Define a Boolean variable named `long_smaller_than_square` which is true if long side of the rectangle is shorter than the side of the square and false otherwise\n",
    "\n",
    "\n",
    ""
   ]
  },
  {
   "cell_type": "code",
   "id": "e5961b9e-response",
   "metadata": {
    "ExecuteTime": {
     "end_time": "2025-10-14T13:49:32.020622Z",
     "start_time": "2025-10-14T13:49:32.019177Z"
    }
   },
   "source": [
    "long_smaller_than_square = long_side < square_side"
   ],
   "outputs": [],
   "execution_count": 16
  },
  {
   "cell_type": "markdown",
   "id": "e404d532",
   "metadata": {},
   "source": [
    "**3.6** Which types do the two comparison variables have?\n",
    "\n",
    "\n",
    ""
   ]
  },
  {
   "cell_type": "code",
   "id": "e404d532-response",
   "metadata": {
    "ExecuteTime": {
     "end_time": "2025-10-14T13:49:32.029193Z",
     "start_time": "2025-10-14T13:49:32.027652Z"
    }
   },
   "source": [
    "print(f\"long_smaller_than_square is of the type: {type(long_smaller_than_square).__name__} \\nshort_smaller_than_square is of the type: {type(short_smaller_than_square).__name__}\") #Print Information, then get the type of long_side and print the types name"
   ],
   "outputs": [
    {
     "name": "stdout",
     "output_type": "stream",
     "text": [
      "long_smaller_than_square is of the type: bool \n",
      "short_smaller_than_square is of the type: bool\n"
     ]
    }
   ],
   "execution_count": 17
  },
  {
   "cell_type": "markdown",
   "id": "69cbd20a",
   "metadata": {},
   "source": [
    "Use the variables `short_smaller_than_square` and `long_smaller_than_square` to answer\n",
    "the questions below. Note: each cell should consist of one operation using Boolean operators."
   ]
  },
  {
   "cell_type": "markdown",
   "id": "67c8a813",
   "metadata": {},
   "source": [
    "**3.7** Are both sides of the rectangle shorter than the side of the square?\n",
    "\n",
    "\n",
    ""
   ]
  },
  {
   "cell_type": "code",
   "id": "67c8a813-response",
   "metadata": {
    "ExecuteTime": {
     "end_time": "2025-10-14T13:49:32.040178Z",
     "start_time": "2025-10-14T13:49:32.038686Z"
    }
   },
   "source": [
    "print(short_smaller_than_square == long_smaller_than_square)"
   ],
   "outputs": [
    {
     "name": "stdout",
     "output_type": "stream",
     "text": [
      "False\n"
     ]
    }
   ],
   "execution_count": 18
  },
  {
   "cell_type": "markdown",
   "id": "0e7d43ec",
   "metadata": {},
   "source": [
    "**3.8** Or logic\n",
    "\n",
    "Is any of the sides of the rectangle shorter than the side of the square?\n",
    "\n",
    "\n",
    ""
   ]
  },
  {
   "cell_type": "code",
   "id": "0e7d43ec-response",
   "metadata": {
    "ExecuteTime": {
     "end_time": "2025-10-14T13:49:32.048342Z",
     "start_time": "2025-10-14T13:49:32.046781Z"
    }
   },
   "source": [
    "print(short_smaller_than_square or long_smaller_than_square)"
   ],
   "outputs": [
    {
     "name": "stdout",
     "output_type": "stream",
     "text": [
      "True\n"
     ]
    }
   ],
   "execution_count": 19
  },
  {
   "cell_type": "markdown",
   "id": "07fba444",
   "metadata": {},
   "source": [
    "**3.9** And logic\n",
    "\n",
    "Is it true that the short side of the rectangle is shorter than the side of the square AND the long side of the rectangle is at least as long as the side of the square?\n",
    "\n",
    "\n",
    ""
   ]
  },
  {
   "cell_type": "markdown",
   "id": "eaf60b9b",
   "metadata": {},
   "source": [
    "## Exercise 4"
   ]
  },
  {
   "cell_type": "markdown",
   "id": "d84d0b46",
   "metadata": {},
   "source": [
    "\n",
    "In this exercise, you will practice producing clear and readable texts by improving the\n",
    "structure of a convoluted and poorly written explanation.\n",
    "\n",
    "The texts below are difficult to read and to follow. You will first identify their\n",
    "structure. Next, you will break them down into clear chunks, and apply markdown\n",
    "formatting. \n",
    "\n",
    "In particular, your task will be to:\n",
    "\n",
    "\n",
    "1. **Analyze each text**: Identify different parts of each text, such as calculations,\n",
    "  results, and logical comparisons. As you go through it, think about where paragraph\n",
    "  breaks should be added, how to structure the information more clearly, and which parts\n",
    "  of each text need emphasis.\n",
    "\n",
    "2. **Reformulate each text**:\n",
    "\n",
    "   * Break each text into paragraphs: Each paragraph should contain a chunk of logically\n",
    "     connected information. Feel free to add headings.\n",
    "   * Use numbered and bulleted lists: When explaining steps, results, or comparisons,\n",
    "     break these down into lists so the reader can follow along easily. Use numbered\n",
    "     lists for ordered arguments and bulleted lists for unordered arguments.\n",
    "   * Use inline code: Whenever you refer to variables or operations, format them as\n",
    "     inline code (e.g. `long_side`, `perimeter_rectangle`) to make very clear that you\n",
    "     refer to code there.\n",
    "   * Create clear connections between ideas: Make sure that each section logically\n",
    "     follows the previous one, and break down long, complex sentences that overwhelm the\n",
    "     reader. \n",
    "   * Do not re-write the texts beyond:\n",
    "     - Adding headings or putting structure like lists.\n",
    "     - Punctuation and connecting words (e.g., removing an \"and\" connecting two parts of\n",
    "       a long sentence is fine when you break that sentence up or removing parts of a\n",
    "       sentence like \"We now describe X\" when you turn \"X\" into a heading.)."
   ]
  },
  {
   "cell_type": "markdown",
   "id": "aa0b51b7",
   "metadata": {},
   "source": [
    "**4.1** Description of procedures and results from the exercises above\n",
    "\n",
    "\n",
    "This text describes what we did in the exercises above. Reformulate it along the lines\n",
    "described above.\n",
    "\n",
    "> In this assignment, we performed calculations and comparisons between a rectangle and\n",
    "> a square. The rectangle's dimensions were as follows. The length of the rectangle's\n",
    "> long side was initially defined as long_side = 8, but it was later updated to a more\n",
    "> precise value of 8.3, and the length of its short side was defined as short_side = 5.\n",
    "> We then obtained the rectangle's perimeter and area. The perimeter of the rectangle\n",
    "> was calculated as:  perimeter_rectangle = 2 * (long_side + short_side) = 26.6 and the\n",
    "> rectangle's area was calculated as: area_rectangle = long_side * short_side = 41.5.\n",
    "> The square's dimensions follow. The side length of the square was defined as\n",
    "> square_side = 7. Its perimeter and area are described now. The square's perimeter was\n",
    "> calculated as: perimeter_square = 4 * square_side = 28 and the area of the square was\n",
    "> calculated as: area_square = square_side^2 = 49. We performed various comparisons\n",
    "> between the rectangle and square using both direct comparisons and boolean variables.\n",
    "> First the side lengths. We checked whether the long side of the rectangle was smaller\n",
    "> than the side of the square: long_side < square_side, this was false. Then the\n",
    "> perimeter, where we checked whether the perimeter of the rectangle was greater than or\n",
    "> equal to that of the square: perimeter_rectangle >= perimeter_square, this was false.\n",
    "> Finally, for the areas we checked whether the areas of the rectangle and the square\n",
    "> were equal: area_rectangle == area_square. This was false, too. Finally, we made more\n",
    "> complex comparison using Boolean variables. We created two Boolean variables,\n",
    "> short_smaller_than_square checks whether the rectangle's short side is shorter than\n",
    "> the side of the square and long_smaller_than_square checks whether the rectangle's\n",
    "> long side is shorter than the side of the square. We then made three comparisons.\n",
    "> Their outcomes are in parentheses. First, whether the sides of the rectangle are\n",
    "> smaller than the square's side (False); second, whether at least one side of the\n",
    "> rectangle is smaller than the square's side (True); finally, whether the short side of\n",
    "> the rectangle is smaller than the square's side and the long side is at least as long\n",
    "> (True)."
   ]
  },
  {
   "cell_type": "markdown",
   "id": "aa0b51b7-response",
   "metadata": {},
   "source": [
    "# Description of the exercises\n",
    "\n",
    " #### In this assignment, we performed calculations and comparisons between a rectangle and a square.\n",
    "\n",
    "\n",
    "  ### The rectangle's dimensions were as follows.\n",
    " The length of the rectangle's long side was initially defined as `long_side = 8`.\n",
    " But it was later updated to a more\n",
    " precise value of **8.3**.\n",
    " And the length of its short side was defined as `short_side = 5`.\n",
    "\n",
    "\n",
    " ### We then obtained the rectangle's perimeter and area.\n",
    " The perimeter of the rectangle\n",
    " was calculated as:  `perimeter_rectangle = 2 * (long_side + short_side) = 26.6`.\n",
    "  And the\n",
    " rectangle's area was calculated as: `area_rectangle = long_side * short_side = 41.5`.\n",
    "\n",
    "\n",
    " ### The square's dimensions follow.\n",
    "\n",
    "\n",
    " The side length of the square was defined as\n",
    " `square_side = 7`.\n",
    "\n",
    "\n",
    " ### Its perimeter and area are described now.\n",
    " **1.** The square's perimeter was\n",
    " calculated as: `perimeter_square = 4 * square_side = 28`.\n",
    " **2.** And the area of the square was\n",
    " calculated as: `area_square = square_side^2 = 49`.\n",
    "\n",
    "\n",
    " ### We performed various comparisons between the rectangle and square using both direct comparisons and boolean variables.\n",
    " + **First the side lengths.**\n",
    " We checked whether the long side of the rectangle was smaller\n",
    " than the side of the square: `long_side < square_side`, this was false.\n",
    " + **Then the perimeter.**\n",
    " Where we checked whether the perimeter of the rectangle was greater than or\n",
    " equal to that of the square:\n",
    " `perimeter_rectangle = perimeter_square`, this was false.\n",
    " + **Finally, for the areas**\n",
    " We checked whether the areas of the rectangle and the square\n",
    " were equal:\n",
    " `area_rectangle == area_square`. This was false, too.\n",
    " + **Finally, we made more complex comparison using Boolean variables.**\n",
    "  We created two Boolean variables,\n",
    " `short_smaller_than_square` checks whether the rectangle's short side is shorter than\n",
    " the side of the square.\n",
    "  And `long_smaller_than_square` checks whether the rectangle's\n",
    " long side is shorter than the side of the square.\n",
    "\n",
    " + **We then made three comparisons. Their outcomes are in parentheses.**\n",
    " **1.** First, whether the sides of the rectangle are\n",
    " smaller than the square's side (**False**).\n",
    " **2.** Second, whether at least one side of the\n",
    " rectangle is smaller than the square's side (**True**);\n",
    " **3.** Finally, whether the short side of\n",
    " the rectangle is smaller than the square's side and the long side is at least as long\n",
    " (**True**)."
   ]
  },
  {
   "cell_type": "markdown",
   "id": "8113f9d1",
   "metadata": {},
   "source": [
    "**4.2** Faulty conclusions in an article\n",
    "\n",
    "Description of the flaws in the conclusions reached in the article about musicians' life expectancy.\n",
    "\n",
    "\n",
    "In the survey, you read about the life expectancy of musicians playing different\n",
    "genres. The article is reported below as a reminder:\n",
    "\n",
    "> \"Musicians from the older genres – blues, jazz (including bebop and dixieland),\n",
    "> country (including country and western, boogie woogie, honky tonk and bluegrass), and\n",
    "> gospel (including spiritual and Christian rock) – enjoyed, on average, similar\n",
    "> lifespans as those from the US population with the same year of birth and gender.\n",
    "> \n",
    "> The next group – R&B (including doo wop and soul), pop, folk (including ballad and\n",
    "> polka) and world music – had lower life expectancies compared with the US population.\n",
    "> \n",
    "> Thereafter, the gap between population lifespans and average age of death for the more\n",
    ">  recent genres – rock (including rockabilly), electronic (including experimental,\n",
    "> techno, disco, and funk), punk, metal, rap and hip hop – widens.\n",
    "> \n",
    "> [...]\n",
    "> \n",
    "> Many musicians from younger genres – rock, electronic, punk, metal, rap, and hip hop –\n",
    "> appear unlikely to live long enough to acquire the illnesses of middle and old age.\"\n",
    "\n",
    "This article misses some important alternative explanations for the seemingly lower life\n",
    "expectancy of musicians playing newer genres. Of course, we do not expect you to come up\n",
    "with the arguments why the analysis is deeply flawed yourself *at this point* (towards\n",
    "the end of the course, you should have made some progress). However, the text below\n",
    "describes some of the most important issues in the article. Please re-write it along the\n",
    "lines described above.\n",
    "\n",
    "The article compares two things, namely the average age at death of musicians across\n",
    "different genres with the life expectancy of the US population for similar birth years\n",
    "as the musicians of a particular genre. The two concepts are closely aligned when\n",
    "comparing cohorts of individuals all of whom have died already (say, all people born in\n",
    "1850s England) but cannot, however, calculate life expectancy in this way when some\n",
    "individuals in question are still alive; hence, in order to deal with present-day\n",
    "populations, we need different concepts of mortality. Population life expectancy in the\n",
    "graph (likely) displays the so-called period life expectancy, which uses current\n",
    "mortality rates (beyond 99.9% for 27-year-olds, closer to 80% for 90-somethings) across\n",
    "all age groups to estimate the average number of years a hypothetical cohort would live\n",
    "if those rates remained constant throughout their lifetime. For musicians, however, the\n",
    "article uses average age at death and neglects all people who are still alive; a\n",
    "phenomenon called right-censoring which implies that not many deaths of 80-year-old hip\n",
    "hop musicians can be recorded because there are hardly any 80-year-old hip hop musicians\n",
    "yet. So the age at death of musicians is mechanically linked to the age of a genre."
   ]
  },
  {
   "cell_type": "markdown",
   "id": "8113f9d1-response",
   "metadata": {},
   "source": [
    "# Conclusion of the article\n",
    "\n",
    "The article compares two things, namely the **average age at death of musicians** across\n",
    "different genres with the **life expectancy of the US population** for similar birth years\n",
    "as the musicians of a particular genre.\n",
    "\n",
    "The two concepts are **closely aligned** when\n",
    "comparing cohorts of individuals all of whom have died already (*say, all people born in\n",
    "1850s England*) but **cannot**, however, calculate life expectancy in this way when some\n",
    "individuals in question are still alive; hence, in order to deal with present-day\n",
    "populations, **we need different concepts of mortality**.\n",
    "\n",
    "Population life expectancy in the\n",
    "graph (*likely*) displays the so-called **period life expectancy**, which uses **current\n",
    "mortality rates** (*beyond 99.9% for 27-year-olds, closer to 80% for 90-somethings*) across\n",
    "all age groups to **estimate the average number** of years a hypothetical cohort would live\n",
    "if those rates remained constant throughout their lifetime.\n",
    "\n",
    "For musicians, however, the\n",
    "article uses **average age at death** and **neglects all people who are still alive**. A\n",
    "phenomenon called **right-censoring** which implies that not many deaths of 80-year-old hip\n",
    "hop musicians can be recorded because there are hardly any 80-year-old hip hop musicians\n",
    "yet. So the **age at death** of musicians is mechanically linked to **the age of a genre**."
   ]
  },
  {
   "metadata": {
    "ExecuteTime": {
     "end_time": "2025-10-14T13:49:32.055844Z",
     "start_time": "2025-10-14T13:49:32.053987Z"
    }
   },
   "cell_type": "code",
   "outputs": [
    {
     "name": "stdout",
     "output_type": "stream",
     "text": [
      "True\n"
     ]
    }
   ],
   "execution_count": 20,
   "source": "print(short_smaller_than_square and long_side >= square_side)",
   "id": "4acd5975884bc0d3"
  }
 ],
 "metadata": {
  "kernelspec": {
   "display_name": "Python 3",
   "language": "python",
   "name": "python3"
  },
  "language_info": {
   "codemirror_mode": {
    "name": "ipython",
    "version": 3
   },
   "file_extension": ".py",
   "mimetype": "text/x-python",
   "name": "python",
   "nbconvert_exporter": "python",
   "pygments_lexer": "ipython3",
   "version": "3.10.9"
  }
 },
 "nbformat": 4,
 "nbformat_minor": 5
}
