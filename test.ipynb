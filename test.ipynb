{
 "cells": [
  {
   "cell_type": "code",
   "id": "initial_id",
   "metadata": {
    "collapsed": true,
    "ExecuteTime": {
     "end_time": "2025-10-14T10:54:13.362416Z",
     "start_time": "2025-10-14T10:54:13.356304Z"
    }
   },
   "source": "print(\"hdjks\")",
   "outputs": [
    {
     "name": "stdout",
     "output_type": "stream",
     "text": [
      "hdjks\n"
     ]
    }
   ],
   "execution_count": 1
  },
  {
   "metadata": {
    "ExecuteTime": {
     "end_time": "2025-10-14T10:54:13.381183Z",
     "start_time": "2025-10-14T10:54:13.379382Z"
    }
   },
   "cell_type": "code",
   "source": "print(\"hh\")",
   "id": "aa7006fda79abb8e",
   "outputs": [
    {
     "name": "stdout",
     "output_type": "stream",
     "text": [
      "hh\n"
     ]
    }
   ],
   "execution_count": 2
  },
  {
   "metadata": {},
   "cell_type": "markdown",
   "source": "",
   "id": "bb62860b1ebed612"
  },
  {
   "metadata": {
    "ExecuteTime": {
     "end_time": "2025-10-14T10:54:13.393706Z",
     "start_time": "2025-10-14T10:54:13.392382Z"
    }
   },
   "cell_type": "code",
   "source": "",
   "id": "7dc164b506a7da51",
   "outputs": [],
   "execution_count": null
  }
 ],
 "metadata": {
  "kernelspec": {
   "display_name": "Python 3",
   "language": "python",
   "name": "python3"
  },
  "language_info": {
   "codemirror_mode": {
    "name": "ipython",
    "version": 2
   },
   "file_extension": ".py",
   "mimetype": "text/x-python",
   "name": "python",
   "nbconvert_exporter": "python",
   "pygments_lexer": "ipython2",
   "version": "2.7.6"
  }
 },
 "nbformat": 4,
 "nbformat_minor": 5
}
